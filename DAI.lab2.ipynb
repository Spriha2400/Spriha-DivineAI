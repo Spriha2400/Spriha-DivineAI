{
 "cells": [
  {
   "cell_type": "code",
   "execution_count": 3,
   "metadata": {},
   "outputs": [
    {
     "name": "stdout",
     "output_type": "stream",
     "text": [
      "a is geater than b\n"
     ]
    }
   ],
   "source": [
    "a=50\n",
    "b=6\n",
    "if a>b: print(\"a is geater than b\")"
   ]
  },
  {
   "cell_type": "code",
   "execution_count": 4,
   "metadata": {},
   "outputs": [
    {
     "name": "stdout",
     "output_type": "stream",
     "text": [
      "B\n"
     ]
    }
   ],
   "source": [
    "a=2\n",
    "b=3330\n",
    "print(\"A\") if a>b else print(\"B\")"
   ]
  },
  {
   "cell_type": "code",
   "execution_count": 7,
   "metadata": {},
   "outputs": [
    {
     "name": "stdout",
     "output_type": "stream",
     "text": [
      "enter l4\n",
      "enter b4\n",
      "square\n"
     ]
    }
   ],
   "source": [
    "l=int(input(\"enter length\"))\n",
    "b=int(input(\"enter breadth\"))\n",
    "print(\"It is a square\") if l==b else print(\"It is a rectangle\")"
   ]
  },
  {
   "cell_type": "code",
   "execution_count": 20,
   "metadata": {},
   "outputs": [
    {
     "name": "stdout",
     "output_type": "stream",
     "text": [
      "enter first number4\n",
      "enter second number4\n",
      "Both are equal\n"
     ]
    }
   ],
   "source": [
    "a=int(input(\"enter first number\"))\n",
    "b=int(input(\"enter second number\"))\n",
    "print(f\"{a} is greater\") if a>b else print(\"Both are equal\") if a==b else print(f\"{b} is greater\")"
   ]
  },
  {
   "cell_type": "code",
   "execution_count": 22,
   "metadata": {},
   "outputs": [
    {
     "name": "stdout",
     "output_type": "stream",
     "text": [
      "11\n",
      "9\n",
      "89\n"
     ]
    }
   ],
   "source": [
    "for num in [20,11,9,66,4,89,44]:\n",
    "    if num%2==0:\n",
    "        pass\n",
    "    else:\n",
    "        print(num)"
   ]
  },
  {
   "cell_type": "code",
   "execution_count": 23,
   "metadata": {},
   "outputs": [
    {
     "name": "stdout",
     "output_type": "stream",
     "text": [
      "s\n",
      "t\n",
      "r\n",
      "n\n",
      "g\n",
      "The End\n"
     ]
    }
   ],
   "source": [
    "for val in \"string\":\n",
    "    if val==\"i\":\n",
    "        continue\n",
    "    print(val)\n",
    "print(\"The End\")"
   ]
  },
  {
   "cell_type": "code",
   "execution_count": 24,
   "metadata": {},
   "outputs": [
    {
     "name": "stdout",
     "output_type": "stream",
     "text": [
      "s\n",
      "t\n",
      "r\n",
      "The End\n"
     ]
    }
   ],
   "source": [
    "for val in \"string\":\n",
    "    if val==\"i\":\n",
    "        break\n",
    "    print(val)\n",
    "print(\"The End\")"
   ]
  },
  {
   "cell_type": "code",
   "execution_count": 25,
   "metadata": {},
   "outputs": [
    {
     "name": "stdout",
     "output_type": "stream",
     "text": [
      "apple\n",
      "banana\n",
      "cherry\n"
     ]
    }
   ],
   "source": [
    "fruits=[\"apple\", \"banana\",\"cherry\"]\n",
    "for x in fruits:\n",
    "    print(x)"
   ]
  },
  {
   "cell_type": "code",
   "execution_count": 27,
   "metadata": {},
   "outputs": [
    {
     "name": "stdout",
     "output_type": "stream",
     "text": [
      "4\n",
      "6\n",
      "8\n",
      "10\n",
      "12\n",
      "14\n",
      "16\n",
      "18\n"
     ]
    }
   ],
   "source": [
    "for i in range(4,20,2):\n",
    "    print(i)"
   ]
  },
  {
   "cell_type": "code",
   "execution_count": 31,
   "metadata": {},
   "outputs": [
    {
     "name": "stdout",
     "output_type": "stream",
     "text": [
      "4 6 8 10 12 14 16 18 "
     ]
    }
   ],
   "source": [
    "for i in range(4,20,2):\n",
    "    print(i,end=' ')"
   ]
  },
  {
   "cell_type": "code",
   "execution_count": 40,
   "metadata": {},
   "outputs": [
    {
     "name": "stdout",
     "output_type": "stream",
     "text": [
      "enter a number5\n",
      "1\n",
      "2\n",
      "3\n",
      "4\n",
      "5\n",
      "15\n"
     ]
    }
   ],
   "source": [
    "a=int(input(\"enter a number\"))\n",
    "sum=0\n",
    "for i in range(1,a+1):\n",
    "    sum=sum+i\n",
    "    print(i)\n",
    "print(sum)"
   ]
  },
  {
   "cell_type": "code",
   "execution_count": 39,
   "metadata": {},
   "outputs": [
    {
     "name": "stdout",
     "output_type": "stream",
     "text": [
      "Enter number:5\n",
      "4\n",
      "3\n",
      "2\n",
      "1\n",
      "0\n",
      "The sum is 15\n"
     ]
    }
   ],
   "source": [
    "number = int(input(\"Enter number:\"))\n",
    "if number<0:\n",
    "    print(\"only positive nos. are allowed\")\n",
    "else:\n",
    "    sum=0\n",
    "    while(number>0):\n",
    "        sum += number\n",
    "        number = number - 1\n",
    "        print(number)\n",
    "print(\"The sum is\", sum)"
   ]
  },
  {
   "cell_type": "code",
   "execution_count": 43,
   "metadata": {},
   "outputs": [],
   "source": [
    "list=[\"abc\", 34, 'true ',40,\"male\",\"unma\"]"
   ]
  },
  {
   "cell_type": "code",
   "execution_count": 44,
   "metadata": {},
   "outputs": [
    {
     "name": "stdout",
     "output_type": "stream",
     "text": [
      "['true ', 40, 'male']\n"
     ]
    }
   ],
   "source": [
    "print(list[2:5])"
   ]
  },
  {
   "cell_type": "code",
   "execution_count": 50,
   "metadata": {},
   "outputs": [
    {
     "data": {
      "text/plain": [
       "['apple', 'cherry']"
      ]
     },
     "execution_count": 50,
     "metadata": {},
     "output_type": "execute_result"
    }
   ],
   "source": [
    "thislist=[\"apple\", \"banana\",\"cherry\"]\n",
    "thislist.remove(\"banana\")\n",
    "thislist"
   ]
  },
  {
   "cell_type": "code",
   "execution_count": 49,
   "metadata": {},
   "outputs": [],
   "source": [
    "thislist[1]=\"blackcurrant\"\n"
   ]
  },
  {
   "cell_type": "code",
   "execution_count": 51,
   "metadata": {},
   "outputs": [
    {
     "name": "stdout",
     "output_type": "stream",
     "text": [
      "['apple', 'banana', 'cherry']\n",
      "['cherry', 'banana', 'apple']\n"
     ]
    }
   ],
   "source": [
    "thislist1=[\"apple\", \"banana\",\"cherry\"]\n",
    "thislist1.sort()\n",
    "print(thislist1)\n",
    "thislist1.sort(reverse=True)\n",
    "print(thislist1)\n"
   ]
  },
  {
   "cell_type": "code",
   "execution_count": null,
   "metadata": {},
   "outputs": [],
   "source": [
    "mylist=[]\n",
    "n=int(input(\"enter number of elements\"))\n",
    "for i in range(0,n):\n",
    "    a=input()\n",
    "    mylist.append(a)\n",
    "    \n",
    "mylist.sort()\n",
    "print(mylist)\n",
    "mylist.sort(reverse=True)\n",
    "print(mylist)"
   ]
  },
  {
   "cell_type": "code",
   "execution_count": 1,
   "metadata": {},
   "outputs": [
    {
     "name": "stdout",
     "output_type": "stream",
     "text": [
      "enter number of elements3\n",
      "apple\n",
      "87\n",
      "True\n",
      "['apple', '87', 'True']\n",
      "['87', 'True', 'apple']\n",
      "['apple', 'True', '87']\n"
     ]
    }
   ],
   "source": [
    "list=[]\n",
    "num=int(input(\"enter number of elements\"))\n",
    "for i in range(num):\n",
    "    elements=input()\n",
    "    list.append(elements)\n",
    "print(list)\n",
    "list.sort()\n",
    "print(list)\n",
    "list.sort(reverse=True)\n",
    "print(list)"
   ]
  },
  {
   "cell_type": "code",
   "execution_count": 2,
   "metadata": {},
   "outputs": [
    {
     "name": "stdout",
     "output_type": "stream",
     "text": [
      "[0, 1, 2, 3, 4]\n"
     ]
    }
   ],
   "source": [
    "b=[i for i in range(0,20) if i<5]\n",
    "print(b)"
   ]
  },
  {
   "cell_type": "code",
   "execution_count": 6,
   "metadata": {},
   "outputs": [
    {
     "name": "stdout",
     "output_type": "stream",
     "text": [
      "('kiwi', 'melon')\n"
     ]
    }
   ],
   "source": [
    "lis=(\"apple\",\"banana\",\"cherry\",\"orange\",\"kiwi\",\"melon\",\"mango\")\n",
    "print(lis[-3:-1])"
   ]
  },
  {
   "cell_type": "code",
   "execution_count": 10,
   "metadata": {},
   "outputs": [
    {
     "name": "stdout",
     "output_type": "stream",
     "text": [
      "('a', 'b', 'c', 1, 2, 3)\n"
     ]
    }
   ],
   "source": [
    "tuple1=(\"a\",\"b\",\"c\")\n",
    "tuple2= (1,2,3)\n",
    "tuple3 = tuple1 + tuple2\n",
    "print(tuple3)"
   ]
  },
  {
   "cell_type": "code",
   "execution_count": null,
   "metadata": {},
   "outputs": [],
   "source": []
  }
 ],
 "metadata": {
  "kernelspec": {
   "display_name": "Python 3",
   "language": "python",
   "name": "python3"
  },
  "language_info": {
   "codemirror_mode": {
    "name": "ipython",
    "version": 3
   },
   "file_extension": ".py",
   "mimetype": "text/x-python",
   "name": "python",
   "nbconvert_exporter": "python",
   "pygments_lexer": "ipython3",
   "version": "3.7.6"
  }
 },
 "nbformat": 4,
 "nbformat_minor": 4
}
